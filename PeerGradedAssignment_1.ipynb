{
 "cells": [
  {
   "cell_type": "markdown",
   "metadata": {},
   "source": [
    "<center>\n",
    "    <img src=\"https://cf-courses-data.s3.us.cloud-object-storage.appdomain.cloud/IBMDeveloperSkillsNetwork-DS0105EN-SkillsNetwork/labs/Module2/images/SN_web_lightmode.png\" width=\"300\" alt=\"cognitiveclass.ai logo\">\n",
    "</center>\n"
   ]
  },
  {
   "cell_type": "markdown",
   "metadata": {},
   "source": [
    "#### Add your code below following the instructions given in the course\n"
   ]
  },
  {
   "cell_type": "markdown",
   "metadata": {},
   "source": [
    "# Peer Graded Assignemnt "
   ]
  },
  {
   "cell_type": "markdown",
   "metadata": {},
   "source": [
    "## Introduction"
   ]
  },
  {
   "cell_type": "markdown",
   "metadata": {},
   "source": [
    "## Data Science Languages\n",
    "\n",
    "1. Python\n",
    "2. R\n",
    "3. Julia\n",
    "4. SQL\n",
    "5. Scala\n",
    "6. MATLAB\n",
    "7. Java\n",
    "8. SAS\n",
    "9. Ruby\n",
    "10. Go\n"
   ]
  },
  {
   "cell_type": "markdown",
   "metadata": {},
   "source": [
    "## Data Science Libraries\n",
    "\n",
    "1. **NumPy:** Fundamental package for scientific computing with support for large, multi-dimensional arrays and matrices.\n",
    "\n",
    "2. **pandas:** Data manipulation and analysis library providing data structures like DataFrames.\n",
    "\n",
    "3. **Matplotlib:** Comprehensive library for creating static, interactive, and animated visualizations in Python.\n",
    "\n",
    "4. **Seaborn:** Statistical data visualization based on Matplotlib, providing a high-level interface for drawing attractive and informative statistical graphics.\n",
    "\n",
    "5. **Scikit-learn:** Simple and efficient tools for data mining and data analysis, particularly for machine learning.\n",
    "\n",
    "6. **TensorFlow:** Open-source machine learning framework developed by the Google Brain team.\n",
    "\n",
    "7. **PyTorch:** Deep learning library known for its flexibility and dynamic computation graph.\n",
    "\n",
    "8. **SciPy:** Library for scientific and technical computing built on NumPy.\n",
    "\n",
    "9. **Statsmodels:** Library for estimating and testing statistical models.\n",
    "\n",
    "10. **NLTK (Natural Language Toolkit):** Library for working with human language data (text).\n",
    "\n",
    "These libraries play a crucial role in various aspects of data science, from data manipulation and analysis to machine learning and visualization.\n"
   ]
  },
  {
   "cell_type": "markdown",
   "metadata": {},
   "source": [
    "## Data Science Tools\n",
    "\n",
    "| Tool Name       | Description                              |\n",
    "|-----------------|------------------------------------------|\n",
    "| Jupyter Notebook | Interactive computing and data analysis   |\n",
    "| RStudio         | Integrated development environment for R |\n",
    "| TensorFlow      | Open-source machine learning framework    |\n",
    "| PyTorch         | Deep learning library                     |\n",
    "| pandas          | Data manipulation and analysis library   |\n",
    "| scikit-learn    | Machine learning library for Python       |\n",
    "| SQL             | Database querying language                |\n",
    "| Tableau         | Data visualization tool                   |\n",
    "| Apache Spark    | Distributed computing framework           |\n",
    "| Hadoop          | Distributed storage and processing       |\n",
    "| Excel           | Spreadsheet software                      |\n"
   ]
  },
  {
   "cell_type": "markdown",
   "metadata": {},
   "source": [
    "## Arithmetic Expression Examples\n",
    "\n",
    "In mathematics, arithmetic expressions involve the use of mathematical operations to manipulate numbers. Here are some basic examples:\n",
    "\n",
    "1. **Addition (+):** 3 + 5 = 8\n",
    "2. **Subtraction (-):** 10 - 4 = 6\n",
    "3. **Multiplication (*):** 2 * 6 = 12\n",
    "4. **Division (/):** 15 / 3 = 5\n",
    "5. **Exponentiation (^ or **):** 2^3 = 8\n",
    "6. **Modulo (%):** 17 % 5 = 2  (remainder)\n",
    "\n",
    "These basic arithmetic operations form the foundation for more complex mathematical calculations.\n"
   ]
  },
  {
   "cell_type": "code",
   "execution_count": 1,
   "metadata": {
    "tags": []
   },
   "outputs": [
    {
     "data": {
      "text/plain": [
       "(20, 100)"
      ]
     },
     "execution_count": 1,
     "metadata": {},
     "output_type": "execute_result"
    }
   ],
   "source": [
    "a=10\n",
    "b=10\n",
    "add=a+b\n",
    "multiply=a*b\n",
    "add,multiply"
   ]
  },
  {
   "cell_type": "code",
   "execution_count": 2,
   "metadata": {
    "tags": []
   },
   "outputs": [
    {
     "name": "stdout",
     "output_type": "stream",
     "text": [
      "120 minutes is equal to 2.00 hours.\n"
     ]
    }
   ],
   "source": [
    "minutes = 120\n",
    "hours_result = minutes / 60\n",
    "print(f\"{minutes} minutes is equal to {hours_result:.2f} hours.\")"
   ]
  },
  {
   "cell_type": "markdown",
   "metadata": {},
   "source": [
    "## Objectives\n",
    "\n",
    "1. **Understand Basic Arithmetic:** Gain familiarity with fundamental arithmetic operations such as addition, subtraction, multiplication, division, exponentiation, and modulo.\n",
    "\n",
    "2. **Explore Data Science Languages:** Learn about popular programming languages used in data science, including Python, R, and others.\n",
    "\n",
    "3. **Discover Data Science Tools:** Familiarize yourself with essential tools used in data science, such as Jupyter Notebook, RStudio, TensorFlow, and more.\n",
    "\n",
    "4. **Practice Arithmetic Expressions:** Work with examples of arithmetic expressions to strengthen your understanding of basic mathematical operations.\n",
    "\n",
    "5. **Apply Conversion Functions:** Use code to convert units, such as converting minutes to hours, to develop practical programming skills.\n",
    "\n",
    "6. **Enhance Markdown Documentation:** Improve your ability to create well-structured and informative Markdown cells for effective documentation.\n",
    "\n",
    "These objectives aim to provide a foundation in both mathematical concepts and practical programming skills relevant to data science.\n"
   ]
  },
  {
   "cell_type": "markdown",
   "metadata": {
    "tags": []
   },
   "source": [
    "## Author\n",
    "\n",
    "**Name:** Asghar\n",
    "\n",
    "Feel free to reach out for any questions or further clarifications.\n"
   ]
  },
  {
   "cell_type": "code",
   "execution_count": null,
   "metadata": {},
   "outputs": [],
   "source": []
  }
 ],
 "metadata": {
  "kernelspec": {
   "display_name": "Python",
   "language": "python",
   "name": "conda-env-python-py"
  },
  "language_info": {
   "codemirror_mode": {
    "name": "ipython",
    "version": 3
   },
   "file_extension": ".py",
   "mimetype": "text/x-python",
   "name": "python",
   "nbconvert_exporter": "python",
   "pygments_lexer": "ipython3",
   "version": "3.7.12"
  }
 },
 "nbformat": 4,
 "nbformat_minor": 4
}
